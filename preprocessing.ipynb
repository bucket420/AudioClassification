{
 "cells": [
  {
   "cell_type": "code",
   "execution_count": 1,
   "metadata": {},
   "outputs": [],
   "source": [
    "import tensorflow as tf\n",
    "import os\n",
    "import pandas as pd\n",
    "import numpy as np\n",
    "from utils import get_spectrogram"
   ]
  },
  {
   "cell_type": "code",
   "execution_count": 2,
   "metadata": {},
   "outputs": [
    {
     "data": {
      "text/plain": [
       "['data/raw/nsynth-test.tfrecord-00000-of-00008',\n",
       " 'data/raw/nsynth-test.tfrecord-00001-of-00008',\n",
       " 'data/raw/nsynth-test.tfrecord-00002-of-00008',\n",
       " 'data/raw/nsynth-test.tfrecord-00003-of-00008',\n",
       " 'data/raw/nsynth-test.tfrecord-00004-of-00008',\n",
       " 'data/raw/nsynth-test.tfrecord-00005-of-00008',\n",
       " 'data/raw/nsynth-test.tfrecord-00006-of-00008',\n",
       " 'data/raw/nsynth-test.tfrecord-00007-of-00008']"
      ]
     },
     "execution_count": 2,
     "metadata": {},
     "output_type": "execute_result"
    }
   ],
   "source": [
    "tf_records = [\"data/raw/\" + filename for filename in os.listdir(\"./data/raw\")]\n",
    "tf_records"
   ]
  },
  {
   "cell_type": "code",
   "execution_count": 3,
   "metadata": {},
   "outputs": [
    {
     "data": {
      "text/plain": [
       "<TFRecordDatasetV2 element_spec=TensorSpec(shape=(), dtype=tf.string, name=None)>"
      ]
     },
     "execution_count": 3,
     "metadata": {},
     "output_type": "execute_result"
    }
   ],
   "source": [
    "raw_dataset = tf.data.TFRecordDataset(tf_records)\n",
    "raw_dataset"
   ]
  },
  {
   "cell_type": "code",
   "execution_count": 4,
   "metadata": {},
   "outputs": [],
   "source": [
    "info = pd.DataFrame(columns=[\"instrument_family\", \"instrument_source\", \"instrument\", \"pitch\", \"note\"])\n",
    "audio = []\n",
    "for raw_record in raw_dataset.take(-1):\n",
    "  example = tf.train.Example()\n",
    "  example.ParseFromString(raw_record.numpy())\n",
    "  row = [ \n",
    "    example.features.feature[\"instrument_family\"].int64_list.value[0],\n",
    "    example.features.feature[\"instrument_source\"].int64_list.value[0],\n",
    "    example.features.feature[\"instrument\"].int64_list.value[0],\n",
    "    example.features.feature[\"pitch\"].int64_list.value[0],\n",
    "    example.features.feature[\"note\"].int64_list.value[0] \n",
    "  ]\n",
    "  info.loc[len(info)] = row\n",
    "  audio.append(example.features.feature[\"audio\"].float_list.value)"
   ]
  },
  {
   "cell_type": "code",
   "execution_count": 5,
   "metadata": {},
   "outputs": [],
   "source": [
    "info_train = info[:3072]\n",
    "info_test = info[3072:]\n",
    "audio_train = audio[:3072]\n",
    "audio_test = audio[3072:]"
   ]
  },
  {
   "cell_type": "code",
   "execution_count": 8,
   "metadata": {},
   "outputs": [],
   "source": [
    "spectrograms_train = [get_spectrogram(waveform) for waveform in audio_train]\n",
    "spectrograms_test = [get_spectrogram(waveform) for waveform in audio_test]"
   ]
  },
  {
   "cell_type": "code",
   "execution_count": 6,
   "metadata": {},
   "outputs": [],
   "source": [
    "labels_src_train = info_train[\"instrument_source\"].to_list()\n",
    "labels_src_test = info_test[\"instrument_source\"].to_list()\n",
    "labels_instr_train = info_train[\"instrument_family\"].to_list()\n",
    "labels_instr_test = info_test[\"instrument_family\"].to_list()"
   ]
  },
  {
   "cell_type": "code",
   "execution_count": 10,
   "metadata": {},
   "outputs": [],
   "source": [
    "spectrograms_train = tf.convert_to_tensor(spectrograms_train)\n",
    "spectrograms_test = tf.convert_to_tensor(spectrograms_test)"
   ]
  },
  {
   "cell_type": "code",
   "execution_count": null,
   "metadata": {},
   "outputs": [],
   "source": [
    "labels_src_train = tf.convert_to_tensor(labels_src_train)\n",
    "labels_src_test = tf.convert_to_tensor(labels_src_test)"
   ]
  },
  {
   "cell_type": "code",
   "execution_count": 7,
   "metadata": {},
   "outputs": [],
   "source": [
    "labels_instr_train = tf.convert_to_tensor(labels_instr_train)\n",
    "labels_instr_test = tf.convert_to_tensor(labels_instr_test)"
   ]
  },
  {
   "cell_type": "code",
   "execution_count": 7,
   "metadata": {},
   "outputs": [],
   "source": [
    "audio_train = tf.convert_to_tensor(audio_train)\n",
    "audio_test = tf.convert_to_tensor(audio_test)"
   ]
  },
  {
   "cell_type": "code",
   "execution_count": 11,
   "metadata": {},
   "outputs": [],
   "source": [
    "spectrograms_train = tf.Variable(spectrograms_train)\n",
    "spectrograms_test = tf.Variable(spectrograms_test)"
   ]
  },
  {
   "cell_type": "code",
   "execution_count": null,
   "metadata": {},
   "outputs": [],
   "source": [
    "labels_src_train = tf.Variable(labels_src_train)\n",
    "labels_src_test = tf.Variable(labels_src_test)"
   ]
  },
  {
   "cell_type": "code",
   "execution_count": 8,
   "metadata": {},
   "outputs": [],
   "source": [
    "labels_instr_train = tf.Variable(labels_instr_train)\n",
    "labels_instr_test = tf.Variable(labels_instr_test)"
   ]
  },
  {
   "cell_type": "code",
   "execution_count": 9,
   "metadata": {},
   "outputs": [],
   "source": [
    "audio_train = tf.Variable(audio_train)\n",
    "audio_test = tf.Variable(audio_test)"
   ]
  },
  {
   "cell_type": "code",
   "execution_count": 15,
   "metadata": {},
   "outputs": [
    {
     "name": "stdout",
     "output_type": "stream",
     "text": [
      "INFO:tensorflow:Assets written to: data/processed/labels_train\\assets\n",
      "INFO:tensorflow:Assets written to: data/processed/labels_test\\assets\n"
     ]
    }
   ],
   "source": [
    "tf.saved_model.save(spectrograms_train, \"data/processed/spectrograms_train\")\n",
    "tf.saved_model.save(spectrograms_test, \"data/processed/spectrograms_test\")\n"
   ]
  },
  {
   "cell_type": "code",
   "execution_count": null,
   "metadata": {},
   "outputs": [],
   "source": [
    "tf.saved_model.save(labels_src_train, \"data/processed/labels_src_train\")\n",
    "tf.saved_model.save(labels_src_test, \"data/processed/labels_src_test\")"
   ]
  },
  {
   "cell_type": "code",
   "execution_count": 9,
   "metadata": {},
   "outputs": [
    {
     "name": "stdout",
     "output_type": "stream",
     "text": [
      "INFO:tensorflow:Assets written to: data/processed/labels_instr_train\\assets\n",
      "INFO:tensorflow:Assets written to: data/processed/labels_instr_test\\assets\n"
     ]
    }
   ],
   "source": [
    "tf.saved_model.save(labels_instr_train, \"data/processed/labels_instr_train\")\n",
    "tf.saved_model.save(labels_instr_test, \"data/processed/labels_instr_test\")"
   ]
  },
  {
   "cell_type": "code",
   "execution_count": 10,
   "metadata": {},
   "outputs": [
    {
     "name": "stdout",
     "output_type": "stream",
     "text": [
      "INFO:tensorflow:Assets written to: data/processed/audio_train\\assets\n",
      "INFO:tensorflow:Assets written to: data/processed/audio_test\\assets\n"
     ]
    }
   ],
   "source": [
    "tf.saved_model.save(audio_train, \"data/processed/audio_train\")\n",
    "tf.saved_model.save(audio_test, \"data/processed/audio_test\")"
   ]
  },
  {
   "cell_type": "code",
   "execution_count": null,
   "metadata": {},
   "outputs": [],
   "source": []
  }
 ],
 "metadata": {
  "kernelspec": {
   "display_name": "audioml",
   "language": "python",
   "name": "python3"
  },
  "language_info": {
   "codemirror_mode": {
    "name": "ipython",
    "version": 3
   },
   "file_extension": ".py",
   "mimetype": "text/x-python",
   "name": "python",
   "nbconvert_exporter": "python",
   "pygments_lexer": "ipython3",
   "version": "3.10.0"
  },
  "orig_nbformat": 4
 },
 "nbformat": 4,
 "nbformat_minor": 2
}
